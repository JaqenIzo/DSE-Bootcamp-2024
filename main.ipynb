{
 "cells": [
  {
   "cell_type": "code",
   "execution_count": 3,
   "metadata": {},
   "outputs": [],
   "source": [
    "import pandas as pd\n",
    "import numpy as np\n",
    "import pyodbc"
   ]
  },
  {
   "cell_type": "code",
   "execution_count": 4,
   "metadata": {},
   "outputs": [
    {
     "name": "stdout",
     "output_type": "stream",
     "text": [
      "<class 'pandas.core.frame.DataFrame'>\n",
      "RangeIndex: 8784 entries, 0 to 8783\n",
      "Data columns (total 8 columns):\n",
      " #   Column             Non-Null Count  Dtype  \n",
      "---  ------             --------------  -----  \n",
      " 0   Date               8784 non-null   object \n",
      " 1   Temperature        8784 non-null   float64\n",
      " 2   Dew_Point          8784 non-null   float64\n",
      " 3   Relative_Humidity  8784 non-null   int64  \n",
      " 4   Wind_Speed         8784 non-null   int64  \n",
      " 5   Visibility_KM      8784 non-null   float64\n",
      " 6   Pressure_kPa       8784 non-null   float64\n",
      " 7   Weather            8784 non-null   object \n",
      "dtypes: float64(4), int64(2), object(2)\n",
      "memory usage: 549.1+ KB\n"
     ]
    }
   ],
   "source": [
    "df = pd.read_csv('F:\\\\Code\\\\Notebooks\\\\DSE\\\\Project 1\\\\Weather Data.csv')\n",
    "df.columns = ['Date','Temperature','Dew_Point','Relative_Humidity','Wind_Speed','Visibility_KM','Pressure_kPa','Weather']\n",
    "df.info()"
   ]
  },
  {
   "cell_type": "code",
   "execution_count": 5,
   "metadata": {},
   "outputs": [
    {
     "data": {
      "text/plain": [
       "['SQL Server', 'MySQL ODBC 9.0 ANSI Driver', 'MySQL ODBC 9.0 Unicode Driver']"
      ]
     },
     "execution_count": 5,
     "metadata": {},
     "output_type": "execute_result"
    }
   ],
   "source": [
    "pyodbc.drivers()"
   ]
  },
  {
   "cell_type": "code",
   "execution_count": 6,
   "metadata": {},
   "outputs": [],
   "source": [
    "from mine import mod"
   ]
  },
  {
   "cell_type": "code",
   "execution_count": 7,
   "metadata": {},
   "outputs": [
    {
     "name": "stdout",
     "output_type": "stream",
     "text": [
      "DB Connection successful\n"
     ]
    }
   ],
   "source": [
    "conn = mod.db_connection('weather','MySQL ODBC 9.0 ANSI Driver','localhost','root')\n"
   ]
  },
  {
   "cell_type": "code",
   "execution_count": 8,
   "metadata": {},
   "outputs": [],
   "source": [
    "df['Date']=pd.to_datetime(df['Date'])"
   ]
  },
  {
   "cell_type": "code",
   "execution_count": 9,
   "metadata": {},
   "outputs": [
    {
     "name": "stdout",
     "output_type": "stream",
     "text": [
      "Error adding data ('42S01', \"[42S01] [MySQL][ODBC 9.0(a) Driver][mysqld-8.0.39]Table 'weather_table' already exists (1050) (SQLExecDirectW)\")\n"
     ]
    }
   ],
   "source": [
    "curr = conn.cursor()\n",
    "\n",
    "query_1 = \"\"\"\n",
    "CREATE TABLE weather_table (\n",
    "    Date datetime,\n",
    "    Temperature float ,\n",
    "    Dew_Point float,\n",
    "    Relative_Humidity int,\n",
    "    Wind_Speed int,\n",
    "    Visibility_KM float,\n",
    "    Pressure_kPa float,\n",
    "    Weather varchar(800)    \n",
    ")\n",
    "\n",
    "\n",
    "\"\"\"\n",
    "\n",
    "# mod.create_table(conn,query_1)"
   ]
  },
  {
   "cell_type": "code",
   "execution_count": 12,
   "metadata": {},
   "outputs": [
    {
     "ename": "ProgrammingError",
     "evalue": "Attempt to use a closed connection.",
     "output_type": "error",
     "traceback": [
      "\u001b[1;31m---------------------------------------------------------------------------\u001b[0m",
      "\u001b[1;31mProgrammingError\u001b[0m                          Traceback (most recent call last)",
      "Cell \u001b[1;32mIn[12], line 8\u001b[0m\n\u001b[0;32m      1\u001b[0m query_2 \u001b[38;5;241m=\u001b[39m \u001b[38;5;124m\"\"\"\u001b[39m\n\u001b[0;32m      2\u001b[0m \n\u001b[0;32m      3\u001b[0m \u001b[38;5;124mINSERT INTO weather_table Values (?,?,?,?,?,?,?,?)\u001b[39m\n\u001b[0;32m      4\u001b[0m \n\u001b[0;32m      5\u001b[0m \u001b[38;5;124m\"\"\"\u001b[39m\n\u001b[1;32m----> 8\u001b[0m \u001b[43mmod\u001b[49m\u001b[38;5;241;43m.\u001b[39;49m\u001b[43madd_data\u001b[49m\u001b[43m(\u001b[49m\u001b[43mconn\u001b[49m\u001b[43m,\u001b[49m\u001b[43mquery_2\u001b[49m\u001b[43m,\u001b[49m\u001b[43mdf\u001b[49m\u001b[43m)\u001b[49m\n",
      "File \u001b[1;32mc:\\Program Files\\Python 312\\Lib\\site-packages\\mine\\mod.py:23\u001b[0m, in \u001b[0;36madd_data\u001b[1;34m(connection, query, dataframe)\u001b[0m\n\u001b[0;32m     22\u001b[0m \u001b[38;5;28;01mdef\u001b[39;00m \u001b[38;5;21madd_data\u001b[39m(connection,query,dataframe):\n\u001b[1;32m---> 23\u001b[0m     curr \u001b[38;5;241m=\u001b[39m \u001b[43mconnection\u001b[49m\u001b[38;5;241;43m.\u001b[39;49m\u001b[43mcursor\u001b[49m\u001b[43m(\u001b[49m\u001b[43m)\u001b[49m\n\u001b[0;32m     25\u001b[0m     \u001b[38;5;28;01mtry\u001b[39;00m:\n\u001b[0;32m     26\u001b[0m         \u001b[38;5;28;01mfor\u001b[39;00m i \u001b[38;5;129;01min\u001b[39;00m dataframe\u001b[38;5;241m.\u001b[39mitertuples(index\u001b[38;5;241m=\u001b[39m\u001b[38;5;28;01mFalse\u001b[39;00m):\n",
      "\u001b[1;31mProgrammingError\u001b[0m: Attempt to use a closed connection."
     ]
    }
   ],
   "source": [
    "query_2 = \"\"\"\n",
    "\n",
    "INSERT INTO weather_table Values (?,?,?,?,?,?,?,?)\n",
    "\n",
    "\"\"\"\n",
    "\n",
    "\n",
    "# mod.add_data(conn,query_2,df)"
   ]
  },
  {
   "cell_type": "code",
   "execution_count": 14,
   "metadata": {},
   "outputs": [
    {
     "name": "stdout",
     "output_type": "stream",
     "text": [
      "DB Connection successful\n"
     ]
    }
   ],
   "source": [
    "conn = mod.db_connection('weather','MySQL ODBC 9.0 ANSI Driver','localhost','root')"
   ]
  },
  {
   "cell_type": "code",
   "execution_count": 16,
   "metadata": {},
   "outputs": [
    {
     "data": {
      "text/html": [
       "<div>\n",
       "<style scoped>\n",
       "    .dataframe tbody tr th:only-of-type {\n",
       "        vertical-align: middle;\n",
       "    }\n",
       "\n",
       "    .dataframe tbody tr th {\n",
       "        vertical-align: top;\n",
       "    }\n",
       "\n",
       "    .dataframe thead th {\n",
       "        text-align: right;\n",
       "    }\n",
       "</style>\n",
       "<table border=\"1\" class=\"dataframe\">\n",
       "  <thead>\n",
       "    <tr style=\"text-align: right;\">\n",
       "      <th></th>\n",
       "      <th>0</th>\n",
       "      <th>1</th>\n",
       "      <th>2</th>\n",
       "      <th>3</th>\n",
       "      <th>4</th>\n",
       "      <th>5</th>\n",
       "      <th>6</th>\n",
       "      <th>7</th>\n",
       "    </tr>\n",
       "  </thead>\n",
       "  <tbody>\n",
       "    <tr>\n",
       "      <th>0</th>\n",
       "      <td>2012-01-03 07:00:00</td>\n",
       "      <td>-14.0</td>\n",
       "      <td>-19.5</td>\n",
       "      <td>63</td>\n",
       "      <td>19</td>\n",
       "      <td>25.0</td>\n",
       "      <td>100.95</td>\n",
       "      <td>Snow</td>\n",
       "    </tr>\n",
       "    <tr>\n",
       "      <th>1</th>\n",
       "      <td>2012-01-04 12:00:00</td>\n",
       "      <td>-13.7</td>\n",
       "      <td>-21.7</td>\n",
       "      <td>51</td>\n",
       "      <td>11</td>\n",
       "      <td>24.1</td>\n",
       "      <td>101.25</td>\n",
       "      <td>Snow</td>\n",
       "    </tr>\n",
       "    <tr>\n",
       "      <th>2</th>\n",
       "      <td>2012-01-04 14:00:00</td>\n",
       "      <td>-11.3</td>\n",
       "      <td>-19.0</td>\n",
       "      <td>53</td>\n",
       "      <td>7</td>\n",
       "      <td>19.3</td>\n",
       "      <td>100.97</td>\n",
       "      <td>Snow</td>\n",
       "    </tr>\n",
       "    <tr>\n",
       "      <th>3</th>\n",
       "      <td>2012-01-04 15:00:00</td>\n",
       "      <td>-10.2</td>\n",
       "      <td>-16.3</td>\n",
       "      <td>61</td>\n",
       "      <td>11</td>\n",
       "      <td>9.7</td>\n",
       "      <td>100.89</td>\n",
       "      <td>Snow</td>\n",
       "    </tr>\n",
       "    <tr>\n",
       "      <th>4</th>\n",
       "      <td>2012-01-04 16:00:00</td>\n",
       "      <td>-9.4</td>\n",
       "      <td>-15.5</td>\n",
       "      <td>61</td>\n",
       "      <td>13</td>\n",
       "      <td>19.3</td>\n",
       "      <td>100.79</td>\n",
       "      <td>Snow</td>\n",
       "    </tr>\n",
       "    <tr>\n",
       "      <th>...</th>\n",
       "      <td>...</td>\n",
       "      <td>...</td>\n",
       "      <td>...</td>\n",
       "      <td>...</td>\n",
       "      <td>...</td>\n",
       "      <td>...</td>\n",
       "      <td>...</td>\n",
       "      <td>...</td>\n",
       "    </tr>\n",
       "    <tr>\n",
       "      <th>887</th>\n",
       "      <td>2012-12-31 19:00:00</td>\n",
       "      <td>0.1</td>\n",
       "      <td>-2.7</td>\n",
       "      <td>81</td>\n",
       "      <td>30</td>\n",
       "      <td>9.7</td>\n",
       "      <td>100.13</td>\n",
       "      <td>Snow</td>\n",
       "    </tr>\n",
       "    <tr>\n",
       "      <th>888</th>\n",
       "      <td>2012-12-31 20:00:00</td>\n",
       "      <td>0.2</td>\n",
       "      <td>-2.4</td>\n",
       "      <td>83</td>\n",
       "      <td>24</td>\n",
       "      <td>9.7</td>\n",
       "      <td>100.03</td>\n",
       "      <td>Snow</td>\n",
       "    </tr>\n",
       "    <tr>\n",
       "      <th>889</th>\n",
       "      <td>2012-12-31 21:00:00</td>\n",
       "      <td>-0.5</td>\n",
       "      <td>-1.5</td>\n",
       "      <td>93</td>\n",
       "      <td>28</td>\n",
       "      <td>4.8</td>\n",
       "      <td>99.95</td>\n",
       "      <td>Snow</td>\n",
       "    </tr>\n",
       "    <tr>\n",
       "      <th>890</th>\n",
       "      <td>2012-12-31 22:00:00</td>\n",
       "      <td>-0.2</td>\n",
       "      <td>-1.8</td>\n",
       "      <td>89</td>\n",
       "      <td>28</td>\n",
       "      <td>9.7</td>\n",
       "      <td>99.91</td>\n",
       "      <td>Snow</td>\n",
       "    </tr>\n",
       "    <tr>\n",
       "      <th>891</th>\n",
       "      <td>2012-12-31 23:00:00</td>\n",
       "      <td>0.0</td>\n",
       "      <td>-2.1</td>\n",
       "      <td>86</td>\n",
       "      <td>30</td>\n",
       "      <td>11.3</td>\n",
       "      <td>99.89</td>\n",
       "      <td>Snow</td>\n",
       "    </tr>\n",
       "  </tbody>\n",
       "</table>\n",
       "<p>892 rows × 8 columns</p>\n",
       "</div>"
      ],
      "text/plain": [
       "                      0     1     2   3   4     5       6     7\n",
       "0   2012-01-03 07:00:00 -14.0 -19.5  63  19  25.0  100.95  Snow\n",
       "1   2012-01-04 12:00:00 -13.7 -21.7  51  11  24.1  101.25  Snow\n",
       "2   2012-01-04 14:00:00 -11.3 -19.0  53   7  19.3  100.97  Snow\n",
       "3   2012-01-04 15:00:00 -10.2 -16.3  61  11   9.7  100.89  Snow\n",
       "4   2012-01-04 16:00:00  -9.4 -15.5  61  13  19.3  100.79  Snow\n",
       "..                  ...   ...   ...  ..  ..   ...     ...   ...\n",
       "887 2012-12-31 19:00:00   0.1  -2.7  81  30   9.7  100.13  Snow\n",
       "888 2012-12-31 20:00:00   0.2  -2.4  83  24   9.7  100.03  Snow\n",
       "889 2012-12-31 21:00:00  -0.5  -1.5  93  28   4.8   99.95  Snow\n",
       "890 2012-12-31 22:00:00  -0.2  -1.8  89  28   9.7   99.91  Snow\n",
       "891 2012-12-31 23:00:00   0.0  -2.1  86  30  11.3   99.89  Snow\n",
       "\n",
       "[892 rows x 8 columns]"
      ]
     },
     "execution_count": 16,
     "metadata": {},
     "output_type": "execute_result"
    }
   ],
   "source": [
    "q3 = \"\"\"\n",
    "SELECT * from weather_table WHERE weather like '%snow'\n",
    "\"\"\"\n",
    "\n",
    "pd.DataFrame(mod.get_data(conn,q3))"
   ]
  }
 ],
 "metadata": {
  "kernelspec": {
   "display_name": "Python 3",
   "language": "python",
   "name": "python3"
  },
  "language_info": {
   "codemirror_mode": {
    "name": "ipython",
    "version": 3
   },
   "file_extension": ".py",
   "mimetype": "text/x-python",
   "name": "python",
   "nbconvert_exporter": "python",
   "pygments_lexer": "ipython3",
   "version": "3.12.4"
  }
 },
 "nbformat": 4,
 "nbformat_minor": 2
}
