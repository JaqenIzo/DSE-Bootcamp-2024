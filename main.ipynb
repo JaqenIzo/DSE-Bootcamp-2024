{
 "cells": [
  {
   "cell_type": "code",
   "execution_count": 1,
   "metadata": {},
   "outputs": [],
   "source": [
    "import pandas as pd\n",
    "import numpy as np\n",
    "import pyodbc"
   ]
  },
  {
   "cell_type": "code",
   "execution_count": 2,
   "metadata": {},
   "outputs": [
    {
     "name": "stdout",
     "output_type": "stream",
     "text": [
      "<class 'pandas.core.frame.DataFrame'>\n",
      "RangeIndex: 8784 entries, 0 to 8783\n",
      "Data columns (total 8 columns):\n",
      " #   Column             Non-Null Count  Dtype  \n",
      "---  ------             --------------  -----  \n",
      " 0   Date               8784 non-null   object \n",
      " 1   Temperature        8784 non-null   float64\n",
      " 2   Dew_Point          8784 non-null   float64\n",
      " 3   Relative_Humidity  8784 non-null   int64  \n",
      " 4   Wind_Speed         8784 non-null   int64  \n",
      " 5   Visibility_KM      8784 non-null   float64\n",
      " 6   Pressure_kPa       8784 non-null   float64\n",
      " 7   Weather            8784 non-null   object \n",
      "dtypes: float64(4), int64(2), object(2)\n",
      "memory usage: 549.1+ KB\n"
     ]
    }
   ],
   "source": [
    "df = pd.read_csv('F:\\\\Code\\\\Notebooks\\\\DSE\\\\Project 1\\\\Weather Data.csv')\n",
    "df.columns = ['Date','Temperature','Dew_Point','Relative_Humidity','Wind_Speed','Visibility_KM','Pressure_kPa','Weather']\n",
    "df.info()"
   ]
  },
  {
   "cell_type": "code",
   "execution_count": 11,
   "metadata": {},
   "outputs": [
    {
     "data": {
      "text/plain": [
       "['SQL Server', 'MySQL ODBC 9.0 ANSI Driver', 'MySQL ODBC 9.0 Unicode Driver']"
      ]
     },
     "execution_count": 11,
     "metadata": {},
     "output_type": "execute_result"
    }
   ],
   "source": [
    "pyodbc.drivers()"
   ]
  },
  {
   "cell_type": "code",
   "execution_count": 4,
   "metadata": {},
   "outputs": [],
   "source": [
    "from mine import mod"
   ]
  },
  {
   "cell_type": "code",
   "execution_count": 12,
   "metadata": {},
   "outputs": [
    {
     "name": "stdout",
     "output_type": "stream",
     "text": [
      "DB Connection successful\n"
     ]
    }
   ],
   "source": [
    "conn = mod.db_connection('weather','MySQL ODBC 9.0 ANSI Driver','localhost','root')\n"
   ]
  },
  {
   "cell_type": "code",
   "execution_count": 13,
   "metadata": {},
   "outputs": [],
   "source": [
    "df['Date']=pd.to_datetime(df['Date'])"
   ]
  },
  {
   "cell_type": "code",
   "execution_count": 14,
   "metadata": {},
   "outputs": [],
   "source": [
    "curr = conn.cursor()\n",
    "\n",
    "query_1 = \"\"\"\n",
    "CREATE TABLE weather_table (\n",
    "    Date datetime,\n",
    "    Temperature float ,\n",
    "    Dew_Point float,\n",
    "    Relative_Humidity int,\n",
    "    Wind_Speed int,\n",
    "    Visibility_KM float,\n",
    "    Pressure_kPa float,\n",
    "    Weather varchar(800)    \n",
    ")\n",
    "\n",
    "\n",
    "\"\"\"\n",
    "\n",
    "mod.create_table(conn,query_1)"
   ]
  },
  {
   "cell_type": "code",
   "execution_count": 15,
   "metadata": {},
   "outputs": [
    {
     "name": "stdout",
     "output_type": "stream",
     "text": [
      "Data added and connection closed\n"
     ]
    }
   ],
   "source": [
    "query_2 = \"\"\"\n",
    "\n",
    "INSERT INTO weather_table Values (?,?,?,?,?,?,?,?)\n",
    "\n",
    "\"\"\"\n",
    "\n",
    "\n",
    "mod.add_data(conn,query_2,df)"
   ]
  }
 ],
 "metadata": {
  "kernelspec": {
   "display_name": "Python 3",
   "language": "python",
   "name": "python3"
  },
  "language_info": {
   "codemirror_mode": {
    "name": "ipython",
    "version": 3
   },
   "file_extension": ".py",
   "mimetype": "text/x-python",
   "name": "python",
   "nbconvert_exporter": "python",
   "pygments_lexer": "ipython3",
   "version": "3.12.4"
  }
 },
 "nbformat": 4,
 "nbformat_minor": 2
}
